{
 "cells": [
  {
   "cell_type": "code",
   "execution_count": 1,
   "metadata": {},
   "outputs": [],
   "source": [
    "import pickle\n",
    "import pandas as pd"
   ]
  },
  {
   "cell_type": "code",
   "execution_count": 3,
   "metadata": {},
   "outputs": [
    {
     "name": "stdout",
     "output_type": "stream",
     "text": [
      "['region', 'city', 'parent_category_name', 'category_name', 'param_1', 'param_2', 'param_3', 'user_type', 'image_top_1']\n",
      "[]\n"
     ]
    }
   ],
   "source": [
    "with open(\"../outputs/data/prepared_catboost_rubert_features_title_longer_sep_embed_no_stratified_kfold_cat_features.pkl\", \"rb\") as f:\n",
    "    cat_features = pickle.load(f)\n",
    "\n",
    "with open(\"../outputs/data/prepared_catboost_rubert_features_title_longer_sep_embed_no_stratified_kfold_embed_features.pkl\", \"rb\") as f:\n",
    "    embed_features = pickle.load(f)\n",
    "\n",
    "print(cat_features)\n",
    "print(embed_features)"
   ]
  },
  {
   "cell_type": "code",
   "execution_count": 9,
   "metadata": {},
   "outputs": [],
   "source": [
    "X = pd.read_csv(\"../outputs/data/prepared_catboost_rubert_features_title_longer_sep_embed_no_stratified_kfold_X.csv\")"
   ]
  },
  {
   "cell_type": "code",
   "execution_count": 10,
   "metadata": {},
   "outputs": [
    {
     "data": {
      "text/html": [
       "<div>\n",
       "<style scoped>\n",
       "    .dataframe tbody tr th:only-of-type {\n",
       "        vertical-align: middle;\n",
       "    }\n",
       "\n",
       "    .dataframe tbody tr th {\n",
       "        vertical-align: top;\n",
       "    }\n",
       "\n",
       "    .dataframe thead th {\n",
       "        text-align: right;\n",
       "    }\n",
       "</style>\n",
       "<table border=\"1\" class=\"dataframe\">\n",
       "  <thead>\n",
       "    <tr style=\"text-align: right;\">\n",
       "      <th></th>\n",
       "      <th>region</th>\n",
       "      <th>city</th>\n",
       "      <th>parent_category_name</th>\n",
       "      <th>category_name</th>\n",
       "      <th>param_1</th>\n",
       "      <th>param_2</th>\n",
       "      <th>param_3</th>\n",
       "      <th>price</th>\n",
       "      <th>item_seq_number</th>\n",
       "      <th>user_type</th>\n",
       "      <th>...</th>\n",
       "      <th>title_embedding_11</th>\n",
       "      <th>title_embedding_12</th>\n",
       "      <th>title_embedding_13</th>\n",
       "      <th>title_embedding_14</th>\n",
       "      <th>title_embedding_15</th>\n",
       "      <th>title_embedding_16</th>\n",
       "      <th>title_embedding_17</th>\n",
       "      <th>title_embedding_18</th>\n",
       "      <th>title_embedding_19</th>\n",
       "      <th>title_embedding_20</th>\n",
       "    </tr>\n",
       "  </thead>\n",
       "  <tbody>\n",
       "    <tr>\n",
       "      <th>0</th>\n",
       "      <td>Свердловская область</td>\n",
       "      <td>Екатеринбург</td>\n",
       "      <td>Личные вещи</td>\n",
       "      <td>Товары для детей и игрушки</td>\n",
       "      <td>Постельные принадлежности</td>\n",
       "      <td>NaN</td>\n",
       "      <td>NaN</td>\n",
       "      <td>400.0</td>\n",
       "      <td>2</td>\n",
       "      <td>Private</td>\n",
       "      <td>...</td>\n",
       "      <td>0.017987</td>\n",
       "      <td>0.027763</td>\n",
       "      <td>0.07652</td>\n",
       "      <td>-0.059133</td>\n",
       "      <td>0.012835</td>\n",
       "      <td>0.063132</td>\n",
       "      <td>0.034268</td>\n",
       "      <td>-0.191465</td>\n",
       "      <td>0.002152</td>\n",
       "      <td>-0.128337</td>\n",
       "    </tr>\n",
       "  </tbody>\n",
       "</table>\n",
       "<p>1 rows × 31 columns</p>\n",
       "</div>"
      ],
      "text/plain": [
       "                 region          city parent_category_name  \\\n",
       "0  Свердловская область  Екатеринбург          Личные вещи   \n",
       "\n",
       "                category_name                    param_1 param_2 param_3  \\\n",
       "0  Товары для детей и игрушки  Постельные принадлежности     NaN     NaN   \n",
       "\n",
       "   price  item_seq_number user_type  ...  title_embedding_11  \\\n",
       "0  400.0                2   Private  ...            0.017987   \n",
       "\n",
       "   title_embedding_12  title_embedding_13  title_embedding_14  \\\n",
       "0            0.027763             0.07652           -0.059133   \n",
       "\n",
       "   title_embedding_15  title_embedding_16  title_embedding_17  \\\n",
       "0            0.012835            0.063132            0.034268   \n",
       "\n",
       "   title_embedding_18  title_embedding_19  title_embedding_20  \n",
       "0           -0.191465            0.002152           -0.128337  \n",
       "\n",
       "[1 rows x 31 columns]"
      ]
     },
     "execution_count": 10,
     "metadata": {},
     "output_type": "execute_result"
    }
   ],
   "source": [
    "X.head(1)"
   ]
  },
  {
   "cell_type": "code",
   "execution_count": 14,
   "metadata": {},
   "outputs": [
    {
     "data": {
      "text/plain": [
       "nan"
      ]
     },
     "execution_count": 14,
     "metadata": {},
     "output_type": "execute_result"
    }
   ],
   "source": [
    "X.iloc[0]['param_2']"
   ]
  }
 ],
 "metadata": {
  "kernelspec": {
   "display_name": "Python 3",
   "language": "python",
   "name": "python3"
  },
  "language_info": {
   "codemirror_mode": {
    "name": "ipython",
    "version": 3
   },
   "file_extension": ".py",
   "mimetype": "text/x-python",
   "name": "python",
   "nbconvert_exporter": "python",
   "pygments_lexer": "ipython3",
   "version": "3.11.11"
  }
 },
 "nbformat": 4,
 "nbformat_minor": 2
}
