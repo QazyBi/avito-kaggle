{
 "cells": [
  {
   "cell_type": "code",
   "execution_count": 5,
   "metadata": {},
   "outputs": [
    {
     "name": "stdout",
     "output_type": "stream",
     "text": [
      "../data/raw/train.csv\n"
     ]
    }
   ],
   "source": [
    "!ls ../data/raw/train.csv"
   ]
  },
  {
   "cell_type": "code",
   "execution_count": 6,
   "metadata": {},
   "outputs": [],
   "source": [
    "import pandas as pd\n",
    "\n",
    "\n",
    "df = pd.read_csv(\"../data/raw/train.csv\")"
   ]
  },
  {
   "cell_type": "code",
   "execution_count": 12,
   "metadata": {},
   "outputs": [
    {
     "data": {
      "text/plain": [
       "Index(['item_id', 'user_id', 'region', 'city', 'parent_category_name',\n",
       "       'category_name', 'param_1', 'param_2', 'param_3', 'title',\n",
       "       'description', 'price', 'item_seq_number', 'activation_date',\n",
       "       'user_type', 'image', 'image_top_1', 'deal_probability'],\n",
       "      dtype='object')"
      ]
     },
     "execution_count": 12,
     "metadata": {},
     "output_type": "execute_result"
    }
   ],
   "source": [
    "df.columns"
   ]
  },
  {
   "cell_type": "code",
   "execution_count": 13,
   "metadata": {},
   "outputs": [],
   "source": [
    "# save to file\n",
    "\n",
    "def save_to_file(df, column_name, file_name):\n",
    "    with open(file_name, \"w\") as f:\n",
    "        for region in df[column_name].unique():\n",
    "            f.write(f\"{region}\\n\")\n"
   ]
  },
  {
   "cell_type": "code",
   "execution_count": 16,
   "metadata": {},
   "outputs": [],
   "source": [
    "save_to_file(df, \"region\", \"region_list.txt\")\n",
    "save_to_file(df, \"city\", \"city_list.txt\")\n",
    "save_to_file(df, \"parent_category_name\", \"parent_category_list.txt\")\n",
    "save_to_file(df, \"category_name\", \"category_list.txt\")\n",
    "save_to_file(df, \"user_type\", \"user_type_list.txt\")\n",
    "save_to_file(df, \"image_top_1\", \"image_class_list.txt\")\n",
    "save_to_file(df, \"param_1\", \"param_1_list.txt\")\n",
    "save_to_file(df, \"param_2\", \"param_2_list.txt\")\n",
    "save_to_file(df, \"param_3\", \"param_3_list.txt\")"
   ]
  }
 ],
 "metadata": {
  "kernelspec": {
   "display_name": "Python 3",
   "language": "python",
   "name": "python3"
  },
  "language_info": {
   "codemirror_mode": {
    "name": "ipython",
    "version": 3
   },
   "file_extension": ".py",
   "mimetype": "text/x-python",
   "name": "python",
   "nbconvert_exporter": "python",
   "pygments_lexer": "ipython3",
   "version": "3.11.10"
  }
 },
 "nbformat": 4,
 "nbformat_minor": 2
}
